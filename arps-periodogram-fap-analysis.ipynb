{
 "cells": [
  {
   "cell_type": "code",
   "execution_count": null,
   "metadata": {
    "execution": {
     "iopub.execute_input": "2022-10-19T04:54:40.238130Z",
     "iopub.status.busy": "2022-10-19T04:54:40.204318Z",
     "iopub.status.idle": "2022-10-19T04:58:16.600597Z"
    }
   },
   "outputs": [],
   "source": [
    "install.packages(\"extRemes\")\n",
    "install.packages(\"cobs\")\n",
    "install.packages(\"moments\")\n",
    "install.packages(\"goftest\")\n",
    "install.packages(\"gbutils\")\n",
    "install.packages(\"forecast\")\n",
    "install.packages(\"reticulate\")\n",
    "# install.packages(\"parallel\")  # parallel is base package so no need."
   ]
  },
  {
   "cell_type": "code",
   "execution_count": null,
   "metadata": {
    "execution": {
     "iopub.execute_input": "2022-10-19T04:58:16.606443Z",
     "iopub.status.busy": "2022-10-19T04:58:16.604393Z",
     "iopub.status.idle": "2022-10-19T04:58:18.632183Z"
    }
   },
   "outputs": [],
   "source": [
    "system(\"git clone https://<USE_SSH_ID>@github.com/Yash-10/arps.git\")"
   ]
  },
  {
   "cell_type": "code",
   "execution_count": null,
   "metadata": {
    "execution": {
     "iopub.execute_input": "2022-10-19T04:58:18.638460Z",
     "iopub.status.busy": "2022-10-19T04:58:18.635727Z",
     "iopub.status.idle": "2022-10-19T04:58:18.651588Z"
    }
   },
   "outputs": [],
   "source": [
    "setwd(\"/kaggle/working/arps\")"
   ]
  },
  {
   "cell_type": "code",
   "execution_count": null,
   "metadata": {
    "_cell_guid": "b1076dfc-b9ad-4769-8c92-a6c4dae69d19",
    "_uuid": "8f2839f25d086af736a60e9eeb907d3b93b6e0e5",
    "execution": {
     "iopub.execute_input": "2022-10-19T04:58:18.657619Z",
     "iopub.status.busy": "2022-10-19T04:58:18.655006Z",
     "iopub.status.idle": "2022-10-19T04:58:23.341950Z"
    }
   },
   "outputs": [],
   "source": [
    "source(\"standardize_periodogram.R\")\n",
    "source(\"eva_periodogram.R\")"
   ]
  },
  {
   "cell_type": "code",
   "execution_count": null,
   "metadata": {
    "execution": {
     "iopub.execute_input": "2022-10-19T04:58:23.345977Z",
     "iopub.status.busy": "2022-10-19T04:58:23.344252Z",
     "iopub.status.idle": "2022-10-19T04:58:23.376840Z"
    }
   },
   "outputs": [],
   "source": [
    "library(parallel)\n",
    "detectCores()"
   ]
  },
  {
   "cell_type": "code",
   "execution_count": null,
   "metadata": {
    "execution": {
     "iopub.execute_input": "2022-10-19T05:22:13.290085Z",
     "iopub.status.busy": "2022-10-19T05:22:13.287886Z",
     "iopub.status.idle": "2022-10-19T05:22:13.312141Z"
    }
   },
   "outputs": [],
   "source": [
    "getFAP <- function(depth, ...) {\n",
    "  result <- try(\n",
    "      suppressWarnings(evd(depth=depth, ...))  # Note: mclapply will fail (and restart runtime) if the driver function raises warnings. Hence suppress them.\n",
    "  )\n",
    "  result <- if (inherits(result, \"try-error\")) c(NA, NA) else result \n",
    "  fap <- result[1]\n",
    "}\n",
    "\n",
    "algoComparison <- function(\n",
    "    depths = depths,\n",
    "    L = 500,\n",
    "    R = 300,\n",
    "    ntransits = 10,\n",
    "    significanceMode = 'max',\n",
    "    noiseType = 1,\n",
    "    period = 2,  # days.\n",
    "    duration = 2  # hours.\n",
    ") {\n",
    "    limiting_depth_BLS <- NULL\n",
    "    # For BLS.\n",
    "    counter <- 1\n",
    "    for (depth in depths) {\n",
    "        fap <- getFAP(depth, L=L, R=R, period=period, duration=duration, noiseType=noiseType,\n",
    "                        algo=\"BLS\", ntransits=ntransits, significanceMode=significanceMode,\n",
    "                          useStandardization=FALSE, ofac=2, res=2, useOptimalFreqSampling=TRUE,\n",
    "                          checkConditions=TRUE, plot=FALSE\n",
    "                     )\n",
    "        if (fap <= 0.01 & !is.na(fap)) {\n",
    "            limiting_depth_BLS <- depths[counter]\n",
    "            break\n",
    "        }\n",
    "        counter <- counter + 1\n",
    "\n",
    "    }\n",
    "    if (is.null(limiting_depth_BLS)) {\n",
    "        limiting_depth_BLS <- depths[length(depths)]\n",
    "    }\n",
    "\n",
    "    # For TCF.\n",
    "    limiting_depth_TCF <- NULL\n",
    "    # For BLS.\n",
    "    counter <- 1\n",
    "    for (depth in depths) {\n",
    "        fap <- getFAP(depth, L=L, R=R, period=period, duration=duration, noiseType=noiseType,\n",
    "                        algo=\"TCF\", ntransits=ntransits, significanceMode=significanceMode,\n",
    "                          useStandardization=FALSE, ofac=2, res=2, useOptimalFreqSampling=TRUE,\n",
    "                          checkConditions=TRUE, plot=FALSE\n",
    "                     )\n",
    "        if (fap <= 0.01) {\n",
    "            limiting_depth_TCF <- depths[counter]\n",
    "            break\n",
    "        }\n",
    "        counter <- counter + 1\n",
    "\n",
    "    }\n",
    "    if (is.null(limiting_depth_TCF)) {\n",
    "        limiting_depth_TCF <- depths[length(depths)]\n",
    "    }\n",
    "\n",
    "    return (c(limiting_depth_BLS, limiting_depth_TCF))\n",
    "}"
   ]
  },
  {
   "cell_type": "markdown",
   "metadata": {},
   "source": [
    "- Make automatic saving of fap_depth `rds` files using git commands from within this notebook.\n",
    "- Transit durations to experiment: [0.5, 1, 2, 3, 4, 5, 6] hours\n",
    "- Periods: [1, 3, 5, 7, 9, 11, 14, 17, 20] days\n",
    "\n",
    "```R\n",
    "durations <- c(\n",
    "    0.5, 1, 2, 3, 4, 5, 6\n",
    ")\n",
    "```"
   ]
  },
  {
   "cell_type": "code",
   "execution_count": null,
   "metadata": {
    "execution": {
     "iopub.execute_input": "2022-10-19T05:53:54.794796Z",
     "iopub.status.busy": "2022-10-19T05:53:54.793123Z",
     "iopub.status.idle": "2022-10-19T05:53:54.814631Z"
    }
   },
   "outputs": [],
   "source": [
    "# depths <- seq(from = 0.005, to = 0.1, length.out=10)\n",
    "# depths <- c(\n",
    "#     seq(from = 0.005, to = 0.03, length.out=30),\n",
    "# #     seq(from = 0.031, to = 0.1, length.out=10)\n",
    "# )\n",
    "depths <- seq(from = 0.005, to = 0.03, length.out=30)\n",
    "\n",
    "limitingDepthBLSArr <- c()\n",
    "limitingDepthTCFArr <- c()\n",
    "\n",
    "# periods <- c(\n",
    "#     0.5, 1, 4, 7, 10, 13, 16, 19\n",
    "# )\n",
    "duration <- 6.0"
   ]
  },
  {
   "cell_type": "code",
   "execution_count": null,
   "metadata": {
    "execution": {
     "iopub.execute_input": "2022-10-19T05:54:20.804340Z",
     "iopub.status.busy": "2022-10-19T05:54:20.802777Z",
     "iopub.status.idle": "2022-10-19T05:57:00.176800Z"
    }
   },
   "outputs": [],
   "source": [
    "period <- 0.5\n",
    "print(sprintf(\"Starting with period = %f days\", period))\n",
    "msgs <- capture.output(capture.output(\n",
    "    result <- algoComparison(\n",
    "    depths = depths,\n",
    "    L = 500,\n",
    "    R = 300,\n",
    "    ntransits = 10,\n",
    "    significanceMode = 'max',\n",
    "    noiseType = 1,\n",
    "    period = period,\n",
    "    duration = duration\n",
    "), type = \"message\"), type=\"output\")\n",
    "print(\"Limiting depths for BLS and TCF:\")\n",
    "print(result)\n",
    "limitingDepthBLSArr <- c(limitingDepthBLSArr, result[1])\n",
    "limitingDepthTCFArr <- c(limitingDepthTCFArr, result[2])"
   ]
  },
  {
   "cell_type": "code",
   "execution_count": null,
   "metadata": {
    "execution": {
     "iopub.execute_input": "2022-10-19T05:57:00.184676Z",
     "iopub.status.busy": "2022-10-19T05:57:00.181452Z",
     "iopub.status.idle": "2022-10-19T05:58:04.678186Z"
    }
   },
   "outputs": [],
   "source": [
    "period <- 1\n",
    "print(sprintf(\"Starting with period = %f days\", period))\n",
    "msgs <- capture.output(capture.output(\n",
    "    result <- algoComparison(\n",
    "    depths = depths,\n",
    "    L = 500,\n",
    "    R = 300,\n",
    "    ntransits = 10,\n",
    "    significanceMode = 'max',\n",
    "    noiseType = 1,\n",
    "    period = period,\n",
    "    duration = duration\n",
    "), type = \"message\"), type=\"output\")\n",
    "print(\"Limiting depths for BLS and TCF:\")\n",
    "print(result)\n",
    "limitingDepthBLSArr <- c(limitingDepthBLSArr, result[1])\n",
    "limitingDepthTCFArr <- c(limitingDepthTCFArr, result[2])"
   ]
  },
  {
   "cell_type": "code",
   "execution_count": null,
   "metadata": {},
   "outputs": [],
   "source": [
    "period <- 4\n",
    "print(sprintf(\"Starting with period = %f days\", period))\n",
    "msgs <- capture.output(capture.output(\n",
    "    result <- algoComparison(\n",
    "    depths = depths,\n",
    "    L = 500,\n",
    "    R = 300,\n",
    "    ntransits = 10,\n",
    "    significanceMode = 'max',\n",
    "    noiseType = 1,\n",
    "    period = period,\n",
    "    duration = duration\n",
    "), type = \"message\"), type=\"output\")\n",
    "print(\"Limiting depths for BLS and TCF:\")\n",
    "print(result)\n",
    "limitingDepthBLSArr <- c(limitingDepthBLSArr, result[1])\n",
    "limitingDepthTCFArr <- c(limitingDepthTCFArr, result[2])"
   ]
  },
  {
   "cell_type": "code",
   "execution_count": null,
   "metadata": {},
   "outputs": [],
   "source": [
    "period <- 7\n",
    "print(sprintf(\"Starting with period = %f days\", period))\n",
    "msgs <- capture.output(capture.output(\n",
    "    result <- algoComparison(\n",
    "    depths = depths,\n",
    "    L = 500,\n",
    "    R = 300,\n",
    "    ntransits = 10,\n",
    "    significanceMode = 'max',\n",
    "    noiseType = 1,\n",
    "    period = period,\n",
    "    duration = duration\n",
    "), type = \"message\"), type=\"output\")\n",
    "print(\"Limiting depths for BLS and TCF:\")\n",
    "print(result)\n",
    "limitingDepthBLSArr <- c(limitingDepthBLSArr, result[1])\n",
    "limitingDepthTCFArr <- c(limitingDepthTCFArr, result[2])"
   ]
  },
  {
   "cell_type": "code",
   "execution_count": null,
   "metadata": {},
   "outputs": [],
   "source": [
    "period <- 10\n",
    "print(sprintf(\"Starting with period = %f days\", period))\n",
    "msgs <- capture.output(capture.output(\n",
    "    result <- algoComparison(\n",
    "    depths = depths,\n",
    "    L = 500,\n",
    "    R = 300,\n",
    "    ntransits = 10,\n",
    "    significanceMode = 'max',\n",
    "    noiseType = 1,\n",
    "    period = period,\n",
    "    duration = duration\n",
    "), type = \"message\"), type=\"output\")\n",
    "print(\"Limiting depths for BLS and TCF:\")\n",
    "print(result)\n",
    "limitingDepthBLSArr <- c(limitingDepthBLSArr, result[1])\n",
    "limitingDepthTCFArr <- c(limitingDepthTCFArr, result[2])"
   ]
  },
  {
   "cell_type": "code",
   "execution_count": null,
   "metadata": {},
   "outputs": [],
   "source": [
    "period <- 13\n",
    "print(sprintf(\"Starting with period = %f days\", period))\n",
    "msgs <- capture.output(capture.output(\n",
    "    result <- algoComparison(\n",
    "    depths = depths,\n",
    "    L = 500,\n",
    "    R = 300,\n",
    "    ntransits = 10,\n",
    "    significanceMode = 'max',\n",
    "    noiseType = 1,\n",
    "    period = period,\n",
    "    duration = duration\n",
    "), type = \"message\"), type=\"output\")\n",
    "print(\"Limiting depths for BLS and TCF:\")\n",
    "print(result)\n",
    "limitingDepthBLSArr <- c(limitingDepthBLSArr, result[1])\n",
    "limitingDepthTCFArr <- c(limitingDepthTCFArr, result[2])"
   ]
  },
  {
   "cell_type": "code",
   "execution_count": null,
   "metadata": {},
   "outputs": [],
   "source": [
    "# period <- 16\n",
    "# print(sprintf(\"Starting with period = %f days\", period))\n",
    "# msgs <- capture.output(capture.output(\n",
    "#     result <- algoComparison(\n",
    "#     depths = depths,\n",
    "#     L = 500,\n",
    "#     R = 300,\n",
    "#     ntransits = 10,\n",
    "#     significanceMode = 'max',\n",
    "#     noiseType = 2,\n",
    "#     period = period,\n",
    "#     duration = duration\n",
    "# ), type = \"message\"), type=\"output\")\n",
    "# print(\"Limiting depths for BLS and TCF:\")\n",
    "# print(result)\n",
    "# limitingDepthBLSArr <- c(limitingDepthBLSArr, result[1])\n",
    "# limitingDepthTCFArr <- c(limitingDepthTCFArr, result[2])"
   ]
  },
  {
   "cell_type": "code",
   "execution_count": null,
   "metadata": {},
   "outputs": [],
   "source": [
    "# period <- 19\n",
    "# print(sprintf(\"Starting with period = %f days\", period))\n",
    "# msgs <- capture.output(capture.output(\n",
    "#     result <- algoComparison(\n",
    "#     depths = depths,\n",
    "#     L = 500,\n",
    "#     R = 300,\n",
    "#     ntransits = 10,\n",
    "#     significanceMode = 'max',\n",
    "#     noiseType = 2,\n",
    "#     period = period,\n",
    "#     duration = duration\n",
    "# ), type = \"message\"), type=\"output\")\n",
    "# print(\"Limiting depths for BLS and TCF:\")\n",
    "# print(result)\n",
    "# limitingDepthBLSArr <- c(limitingDepthBLSArr, result[1])\n",
    "# limitingDepthTCFArr <- c(limitingDepthTCFArr, result[2])"
   ]
  },
  {
   "cell_type": "code",
   "execution_count": null,
   "metadata": {
    "execution": {
     "iopub.execute_input": "2022-10-19T06:07:18.202295Z",
     "iopub.status.busy": "2022-10-19T06:07:18.200778Z",
     "iopub.status.idle": "2022-10-19T06:07:18.218201Z"
    }
   },
   "outputs": [],
   "source": [
    "saveRDS(limitingDepthBLSArr, sprintf(\"limitingDepthBLSArr_duration%f_Gaussian_ntransits10.rds\", duration))\n",
    "saveRDS(limitingDepthTCFArr, sprintf(\"limitingDepthTCFArr_duration%f_Gaussian_ntransits10.rds\", duration))"
   ]
  },
  {
   "cell_type": "code",
   "execution_count": null,
   "metadata": {
    "execution": {
     "iopub.execute_input": "2022-10-19T06:07:20.046322Z",
     "iopub.status.busy": "2022-10-19T06:07:20.044769Z",
     "iopub.status.idle": "2022-10-19T06:07:20.065186Z"
    }
   },
   "outputs": [],
   "source": [
    "print(system(sprintf(\"mkdir fap_experiments/limitingDepths_duration%f_Gaussian_ntransits10\", duration), intern=TRUE))"
   ]
  },
  {
   "cell_type": "code",
   "execution_count": null,
   "metadata": {
    "execution": {
     "iopub.execute_input": "2022-10-19T06:07:24.515803Z",
     "iopub.status.busy": "2022-10-19T06:07:24.514335Z",
     "iopub.status.idle": "2022-10-19T06:07:24.531617Z"
    }
   },
   "outputs": [],
   "source": [
    "list.files()"
   ]
  },
  {
   "cell_type": "code",
   "execution_count": null,
   "metadata": {
    "execution": {
     "iopub.execute_input": "2022-10-19T06:07:29.240898Z",
     "iopub.status.busy": "2022-10-19T06:07:29.239441Z",
     "iopub.status.idle": "2022-10-19T06:07:29.258768Z"
    }
   },
   "outputs": [],
   "source": [
    "print(system(sprintf(\"mv *.rds fap_experiments/limitingDepths_duration%f_Gaussian_ntransits10\", duration)))"
   ]
  },
  {
   "cell_type": "code",
   "execution_count": null,
   "metadata": {
    "execution": {
     "iopub.execute_input": "2022-10-19T06:07:35.864807Z",
     "iopub.status.busy": "2022-10-19T06:07:35.863181Z",
     "iopub.status.idle": "2022-10-19T06:07:35.886525Z"
    }
   },
   "outputs": [],
   "source": [
    "zip(zipfile = sprintf('limitingDepths_duration%f_Gaussian_ntransits10.zip', duration), files = sprintf(\"fap_experiments/faps_duration%f_Gaussian_ntransits10\", duration))"
   ]
  },
  {
   "cell_type": "code",
   "execution_count": null,
   "metadata": {
    "execution": {
     "iopub.execute_input": "2022-10-19T06:07:40.088073Z",
     "iopub.status.busy": "2022-10-19T06:07:40.086569Z",
     "iopub.status.idle": "2022-10-19T06:07:40.104053Z"
    }
   },
   "outputs": [],
   "source": [
    "print(length(list.files(sprintf(\"fap_experiments/limitingDepths_duration%f_Gaussian_ntransits10\", duration))))"
   ]
  },
  {
   "cell_type": "code",
   "execution_count": null,
   "metadata": {},
   "outputs": [],
   "source": []
  }
 ],
 "metadata": {
  "kernelspec": {
   "display_name": "R",
   "language": "R",
   "name": "ir"
  },
  "language_info": {
   "codemirror_mode": "r",
   "file_extension": ".r",
   "mimetype": "text/x-r-source",
   "name": "R",
   "pygments_lexer": "r",
   "version": "4.0.5"
  }
 },
 "nbformat": 4,
 "nbformat_minor": 4
}
