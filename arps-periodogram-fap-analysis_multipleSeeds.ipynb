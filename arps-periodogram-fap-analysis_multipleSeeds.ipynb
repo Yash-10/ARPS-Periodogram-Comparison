{
 "cells": [
  {
   "cell_type": "code",
   "execution_count": 1,
   "metadata": {
    "execution": {
     "iopub.execute_input": "2022-10-31T04:58:28.677703Z",
     "iopub.status.busy": "2022-10-31T04:58:28.675267Z",
     "iopub.status.idle": "2022-10-31T05:02:45.957607Z"
    }
   },
   "outputs": [
    {
     "name": "stderr",
     "output_type": "stream",
     "text": [
      "Installing package into ‘/usr/local/lib/R/site-library’\n",
      "(as ‘lib’ is unspecified)\n",
      "\n",
      "also installing the dependencies ‘Lmoments’, ‘distillery’\n",
      "\n",
      "\n",
      "Installing package into ‘/usr/local/lib/R/site-library’\n",
      "(as ‘lib’ is unspecified)\n",
      "\n",
      "Installing package into ‘/usr/local/lib/R/site-library’\n",
      "(as ‘lib’ is unspecified)\n",
      "\n",
      "Installing package into ‘/usr/local/lib/R/site-library’\n",
      "(as ‘lib’ is unspecified)\n",
      "\n",
      "Installing package into ‘/usr/local/lib/R/site-library’\n",
      "(as ‘lib’ is unspecified)\n",
      "\n",
      "Installing package into ‘/usr/local/lib/R/site-library’\n",
      "(as ‘lib’ is unspecified)\n",
      "\n",
      "Installing package into ‘/usr/local/lib/R/site-library’\n",
      "(as ‘lib’ is unspecified)\n",
      "\n"
     ]
    }
   ],
   "source": [
    "install.packages(\"extRemes\")\n",
    "install.packages(\"cobs\")\n",
    "install.packages(\"moments\")\n",
    "install.packages(\"goftest\")\n",
    "install.packages(\"gbutils\")\n",
    "install.packages(\"forecast\")\n",
    "install.packages(\"reticulate\")\n",
    "# install.packages(\"parallel\")  # parallel is base package so no need."
   ]
  },
  {
   "cell_type": "code",
   "execution_count": 2,
   "metadata": {
    "execution": {
     "iopub.execute_input": "2022-10-31T05:02:45.991972Z",
     "iopub.status.busy": "2022-10-31T05:02:45.961165Z",
     "iopub.status.idle": "2022-10-31T05:02:49.528144Z"
    }
   },
   "outputs": [],
   "source": [
    "system(\"git clone https://<SSH_ID>@github.com/Yash-10/arps.git\")"
   ]
  },
  {
   "cell_type": "code",
   "execution_count": 3,
   "metadata": {
    "execution": {
     "iopub.execute_input": "2022-10-31T05:02:49.532757Z",
     "iopub.status.busy": "2022-10-31T05:02:49.531348Z",
     "iopub.status.idle": "2022-10-31T05:02:49.545044Z"
    }
   },
   "outputs": [],
   "source": [
    "setwd(\"/kaggle/working/arps\")"
   ]
  },
  {
   "cell_type": "code",
   "execution_count": 4,
   "metadata": {
    "_cell_guid": "b1076dfc-b9ad-4769-8c92-a6c4dae69d19",
    "_uuid": "8f2839f25d086af736a60e9eeb907d3b93b6e0e5",
    "execution": {
     "iopub.execute_input": "2022-10-31T05:02:49.549014Z",
     "iopub.status.busy": "2022-10-31T05:02:49.547443Z",
     "iopub.status.idle": "2022-10-31T05:02:54.989031Z"
    }
   },
   "outputs": [
    {
     "name": "stderr",
     "output_type": "stream",
     "text": [
      "Registered S3 method overwritten by 'quantmod':\n",
      "  method            from\n",
      "  as.zoo.data.frame zoo \n",
      "\n",
      "Loading required package: Lmoments\n",
      "\n",
      "Loading required package: distillery\n",
      "\n",
      "\n",
      "Attaching package: ‘extRemes’\n",
      "\n",
      "\n",
      "The following objects are masked from ‘package:stats’:\n",
      "\n",
      "    qqnorm, qqplot\n",
      "\n",
      "\n"
     ]
    }
   ],
   "source": [
    "source(\"standardize_periodogram.R\")\n",
    "source(\"eva_periodogram.R\")"
   ]
  },
  {
   "cell_type": "code",
   "execution_count": 5,
   "metadata": {
    "execution": {
     "iopub.execute_input": "2022-10-31T05:02:54.993513Z",
     "iopub.status.busy": "2022-10-31T05:02:54.991581Z",
     "iopub.status.idle": "2022-10-31T05:02:55.027888Z"
    }
   },
   "outputs": [
    {
     "data": {
      "text/html": [
       "4"
      ],
      "text/latex": [
       "4"
      ],
      "text/markdown": [
       "4"
      ],
      "text/plain": [
       "[1] 4"
      ]
     },
     "metadata": {},
     "output_type": "display_data"
    }
   ],
   "source": [
    "library(parallel)\n",
    "detectCores()"
   ]
  },
  {
   "cell_type": "code",
   "execution_count": 6,
   "metadata": {
    "execution": {
     "iopub.execute_input": "2022-10-31T05:02:55.031911Z",
     "iopub.status.busy": "2022-10-31T05:02:55.030464Z",
     "iopub.status.idle": "2022-10-31T05:02:55.048536Z"
    }
   },
   "outputs": [],
   "source": [
    "getFAP <- function(depth, ...) {\n",
    "  result <- try(\n",
    "      suppressWarnings(evd(depth=depth, ...))  # Note: mclapply will fail (and restart runtime) if the driver function raises warnings. Hence suppress them.\n",
    "  )\n",
    "  result <- if (inherits(result, \"try-error\")) c(NA, NA) else result \n",
    "  fap <- result[1]\n",
    "}\n",
    "\n",
    "algoComparison <- function(\n",
    "    depths = depths,\n",
    "    L = 500,\n",
    "    R = 300,\n",
    "    ntransits = 10,\n",
    "    significanceMode = 'max',\n",
    "    noiseType = 1,\n",
    "    period = 2,  # days.\n",
    "    duration = 2,  # hours.\n",
    "    seedValue=1\n",
    ") {\n",
    "    limiting_depth_BLS <- NULL\n",
    "    # For BLS.\n",
    "    counter <- 1\n",
    "    for (depth in depths) {\n",
    "        fap <- getFAP(depth, L=L, R=R, period=period, duration=duration, noiseType=noiseType,\n",
    "                        algo=\"BLS\", ntransits=ntransits, significanceMode=significanceMode,\n",
    "                          useStandardization=FALSE, ofac=2, res=2, useOptimalFreqSampling=TRUE,\n",
    "                          checkConditions=TRUE, plot=FALSE, seedValue=seedValue\n",
    "                     )\n",
    "        if (fap <= 0.01 & !is.na(fap)) {\n",
    "            limiting_depth_BLS <- depths[counter]\n",
    "            break\n",
    "        }\n",
    "        counter <- counter + 1\n",
    "\n",
    "    }\n",
    "    if (is.null(limiting_depth_BLS)) {\n",
    "        limiting_depth_BLS <- depths[length(depths)]\n",
    "    }\n",
    "\n",
    "    limiting_depth_TCF <- NULL\n",
    "    # For TCF\n",
    "    counter <- 1\n",
    "    for (depth in depths) {\n",
    "        fap <- getFAP(depth, L=L, R=R, period=period, duration=duration, noiseType=noiseType,\n",
    "                        algo=\"TCF\", ntransits=ntransits, significanceMode=significanceMode,\n",
    "                          useStandardization=FALSE, ofac=2, res=2, useOptimalFreqSampling=TRUE,\n",
    "                          checkConditions=TRUE, plot=FALSE, seedValue=seedValue\n",
    "                     )\n",
    "        if (fap <= 0.01 & !is.na(fap)) {\n",
    "            limiting_depth_TCF <- depths[counter]\n",
    "            break\n",
    "        }\n",
    "        counter <- counter + 1\n",
    "\n",
    "    }\n",
    "    if (is.null(limiting_depth_TCF)) {\n",
    "        limiting_depth_TCF <- depths[length(depths)]\n",
    "    }\n",
    "\n",
    "    return (c(limiting_depth_BLS, limiting_depth_TCF))\n",
    "}"
   ]
  },
  {
   "cell_type": "markdown",
   "metadata": {},
   "source": [
    "- Make automatic saving of fap_depth `rds` files using git commands from within this notebook.\n",
    "- Transit durations to experiment: [0.5, 1, 2, 3, 4, 5, 6] hours\n",
    "- Periods: [1, 3, 5, 7, 9, 11, 14, 17, 20] days\n",
    "\n",
    "```R\n",
    "durations <- c(\n",
    "    0.5, 1, 2, 3, 4, 5, 6\n",
    ")\n",
    "```"
   ]
  },
  {
   "cell_type": "code",
   "execution_count": 7,
   "metadata": {
    "execution": {
     "iopub.execute_input": "2022-10-31T05:02:55.052572Z",
     "iopub.status.busy": "2022-10-31T05:02:55.051082Z",
     "iopub.status.idle": "2022-10-31T05:02:55.094035Z"
    }
   },
   "outputs": [],
   "source": [
    "# depths <- seq(from = 0.005, to = 0.1, length.out=10)\n",
    "# depths <- c(\n",
    "#     seq(from = 0.005, to = 0.03, length.out=30),\n",
    "# #     seq(from = 0.031, to = 0.1, length.out=10)\n",
    "# )\n",
    "depths <- seq(from = 0.005, to = 0.03, length.out=35)\n",
    "\n",
    "limitingDepthBLSArr <- c()\n",
    "limitingDepthTCFArr <- c()\n",
    "\n",
    "duration <- 2.0\n",
    "seedVals <- c(1, 5, 10, 1234, 54321, 19482)"
   ]
  },
  {
   "cell_type": "code",
   "execution_count": 1,
   "metadata": {
    "execution": {
     "iopub.execute_input": "2022-10-31T06:02:25.243393Z",
     "iopub.status.busy": "2022-10-31T06:02:25.240947Z",
     "iopub.status.idle": "2022-10-31T06:02:25.399627Z"
    }
   },
   "outputs": [
    {
     "name": "stdout",
     "output_type": "stream",
     "text": [
      "[1] \"Starting with period = 0.500000 days\"\n"
     ]
    },
    {
     "ename": "ERROR",
     "evalue": "Error in eval(expr, envir, enclos): object 'seedVals' not found\n",
     "output_type": "error",
     "traceback": [
      "Error in eval(expr, envir, enclos): object 'seedVals' not found\nTraceback:\n"
     ]
    }
   ],
   "source": [
    "period <- 0.5\n",
    "print(sprintf(\"Starting with period = %f days\", period))\n",
    "\n",
    "ldb <- c()\n",
    "ldt <- c()\n",
    "for (seedValue in seedVals) {\n",
    "    msgs <- capture.output(capture.output(\n",
    "        result <- algoComparison(\n",
    "        depths = depths,\n",
    "        L = 500,\n",
    "        R = 300,\n",
    "        ntransits = 10,\n",
    "        significanceMode = 'max',\n",
    "        noiseType = 2,\n",
    "        period = period,\n",
    "        duration = duration,\n",
    "        seedValue=seedValue\n",
    "    ), type = \"message\"), type=\"output\")\n",
    "    print(cat(\"\\t\", \"Limiting depths for BLS and TCF:\", result[1], result[2]\n",
    "    ldb <- c(ldb, result[1])\n",
    "    ldt <- c(ldt, result[2])\n",
    "}\n",
    "ldbMean <- mean(ldb)\n",
    "ldtMean <- mean(ldt)\n",
    "\n",
    "print(cat(\"Averaged limiting depths across five different runs (for BLS and TCF)\", ldbMean, ldtMean))\n",
    "\n",
    "limitingDepthBLSArr <- c(limitingDepthBLSArr, ldbMean)\n",
    "limitingDepthTCFArr <- c(limitingDepthTCFArr, ldtMean)"
   ]
  },
  {
   "cell_type": "code",
   "execution_count": null,
   "metadata": {
    "execution": {
     "iopub.execute_input": "2022-10-30T17:09:38.338599Z",
     "iopub.status.busy": "2022-10-30T17:09:38.336811Z",
     "iopub.status.idle": "2022-10-30T17:29:20.754610Z"
    }
   },
   "outputs": [],
   "source": [
    "period <- 1\n",
    "print(sprintf(\"Starting with period = %f days\", period))\n",
    "\n",
    "ldb <- c()\n",
    "ldt <- c()\n",
    "for (seedValue in seedVals) {\n",
    "    msgs <- capture.output(capture.output(\n",
    "        result <- algoComparison(\n",
    "        depths = depths,\n",
    "        L = 500,\n",
    "        R = 300,\n",
    "        ntransits = 10,\n",
    "        significanceMode = 'max',\n",
    "        noiseType = 2,\n",
    "        period = period,\n",
    "        duration = duration,\n",
    "        seedValue=seedValue\n",
    "    ), type = \"message\"), type=\"output\")\n",
    "    print(cat(\"\\t\", \"Limiting depths for BLS and TCF:\", result[1], result[2]\n",
    "    ldb <- c(ldb, result[1])\n",
    "    ldt <- c(ldt, result[2])\n",
    "}\n",
    "ldbMean <- mean(ldb)\n",
    "ldtMean <- mean(ldt)\n",
    "\n",
    "print(cat(\"Averaged limiting depths across five different runs (for BLS and TCF)\", ldbMean, ldtMean))\n",
    "\n",
    "limitingDepthBLSArr <- c(limitingDepthBLSArr, ldbMean)\n",
    "limitingDepthTCFArr <- c(limitingDepthTCFArr, ldtMean)"
   ]
  },
  {
   "cell_type": "code",
   "execution_count": null,
   "metadata": {},
   "outputs": [],
   "source": [
    "period <- 4\n",
    "print(sprintf(\"Starting with period = %f days\", period))\n",
    "\n",
    "ldb <- c()\n",
    "ldt <- c()\n",
    "for (seedValue in seedVals) {\n",
    "    msgs <- capture.output(capture.output(\n",
    "        result <- algoComparison(\n",
    "        depths = depths,\n",
    "        L = 500,\n",
    "        R = 300,\n",
    "        ntransits = 10,\n",
    "        significanceMode = 'max',\n",
    "        noiseType = 2,\n",
    "        period = period,\n",
    "        duration = duration,\n",
    "        seedValue=seedValue\n",
    "    ), type = \"message\"), type=\"output\")\n",
    "    print(cat(\"\\t\", \"Limiting depths for BLS and TCF:\", result[1], result[2]\n",
    "    ldb <- c(ldb, result[1])\n",
    "    ldt <- c(ldt, result[2])\n",
    "}\n",
    "ldbMean <- mean(ldb)\n",
    "ldtMean <- mean(ldt)\n",
    "\n",
    "print(cat(\"Averaged limiting depths across five different runs (for BLS and TCF)\", ldbMean, ldtMean))\n",
    "\n",
    "limitingDepthBLSArr <- c(limitingDepthBLSArr, ldbMean)\n",
    "limitingDepthTCFArr <- c(limitingDepthTCFArr, ldtMean)"
   ]
  },
  {
   "cell_type": "code",
   "execution_count": null,
   "metadata": {},
   "outputs": [],
   "source": [
    "period <- 7\n",
    "print(sprintf(\"Starting with period = %f days\", period))\n",
    "\n",
    "ldb <- c()\n",
    "ldt <- c()\n",
    "for (seedValue in seedVals) {\n",
    "    msgs <- capture.output(capture.output(\n",
    "        result <- algoComparison(\n",
    "        depths = depths,\n",
    "        L = 500,\n",
    "        R = 300,\n",
    "        ntransits = 10,\n",
    "        significanceMode = 'max',\n",
    "        noiseType = 2,\n",
    "        period = period,\n",
    "        duration = duration,\n",
    "        seedValue=seedValue\n",
    "    ), type = \"message\"), type=\"output\")\n",
    "    print(cat(\"\\t\", \"Limiting depths for BLS and TCF:\", result[1], result[2]\n",
    "    ldb <- c(ldb, result[1])\n",
    "    ldt <- c(ldt, result[2])\n",
    "}\n",
    "ldbMean <- mean(ldb)\n",
    "ldtMean <- mean(ldt)\n",
    "\n",
    "print(cat(\"Averaged limiting depths across five different runs (for BLS and TCF)\", ldbMean, ldtMean))\n",
    "\n",
    "limitingDepthBLSArr <- c(limitingDepthBLSArr, ldbMean)\n",
    "limitingDepthTCFArr <- c(limitingDepthTCFArr, ldtMean)"
   ]
  },
  {
   "cell_type": "code",
   "execution_count": null,
   "metadata": {},
   "outputs": [],
   "source": [
    "period <- 10\n",
    "print(sprintf(\"Starting with period = %f days\", period))\n",
    "\n",
    "ldb <- c()\n",
    "ldt <- c()\n",
    "for (seedValue in seedVals) {\n",
    "    msgs <- capture.output(capture.output(\n",
    "        result <- algoComparison(\n",
    "        depths = depths,\n",
    "        L = 500,\n",
    "        R = 300,\n",
    "        ntransits = 10,\n",
    "        significanceMode = 'max',\n",
    "        noiseType = 2,\n",
    "        period = period,\n",
    "        duration = duration,\n",
    "        seedValue=seedValue\n",
    "    ), type = \"message\"), type=\"output\")\n",
    "    print(cat(\"\\t\", \"Limiting depths for BLS and TCF:\", result[1], result[2]\n",
    "    ldb <- c(ldb, result[1])\n",
    "    ldt <- c(ldt, result[2])\n",
    "}\n",
    "ldbMean <- mean(ldb)\n",
    "ldtMean <- mean(ldt)\n",
    "\n",
    "print(cat(\"Averaged limiting depths across five different runs (for BLS and TCF)\", ldbMean, ldtMean))\n",
    "\n",
    "limitingDepthBLSArr <- c(limitingDepthBLSArr, ldbMean)\n",
    "limitingDepthTCFArr <- c(limitingDepthTCFArr, ldtMean)"
   ]
  },
  {
   "cell_type": "code",
   "execution_count": null,
   "metadata": {
    "execution": {
     "iopub.execute_input": "2022-10-30T11:20:31.718781Z",
     "iopub.status.busy": "2022-10-30T11:20:31.717588Z",
     "iopub.status.idle": "2022-10-30T17:07:49.881629Z"
    }
   },
   "outputs": [],
   "source": [
    "period <- 13\n",
    "print(sprintf(\"Starting with period = %f days\", period))\n",
    "\n",
    "ldb <- c()\n",
    "ldt <- c()\n",
    "for (seedValue in seedVals) {\n",
    "    msgs <- capture.output(capture.output(\n",
    "        result <- algoComparison(\n",
    "        depths = depths,\n",
    "        L = 500,\n",
    "        R = 300,\n",
    "        ntransits = 10,\n",
    "        significanceMode = 'max',\n",
    "        noiseType = 2,\n",
    "        period = period,\n",
    "        duration = duration,\n",
    "        seedValue=seedValue\n",
    "    ), type = \"message\"), type=\"output\")\n",
    "    print(cat(\"\\t\", \"Limiting depths for BLS and TCF:\", result[1], result[2]\n",
    "    ldb <- c(ldb, result[1])\n",
    "    ldt <- c(ldt, result[2])\n",
    "}\n",
    "ldbMean <- mean(ldb)\n",
    "ldtMean <- mean(ldt)\n",
    "\n",
    "print(cat(\"Averaged limiting depths across five different runs (for BLS and TCF)\", ldbMean, ldtMean))\n",
    "\n",
    "limitingDepthBLSArr <- c(limitingDepthBLSArr, ldbMean)\n",
    "limitingDepthTCFArr <- c(limitingDepthTCFArr, ldtMean)"
   ]
  },
  {
   "cell_type": "code",
   "execution_count": null,
   "metadata": {},
   "outputs": [],
   "source": [
    "print(limitingDepthBLSArr)\n",
    "print(limitingDepthTCFArr)"
   ]
  },
  {
   "cell_type": "code",
   "execution_count": null,
   "metadata": {
    "execution": {
     "iopub.execute_input": "2022-10-19T06:07:18.202295Z",
     "iopub.status.busy": "2022-10-19T06:07:18.200778Z",
     "iopub.status.idle": "2022-10-19T06:07:18.218201Z"
    }
   },
   "outputs": [],
   "source": [
    "saveRDS(limitingDepthBLSArr, sprintf(\"limitingDepthBLSArr_duration%f_AR_ntransits10.rds\", duration))\n",
    "saveRDS(limitingDepthTCFArr, sprintf(\"limitingDepthTCFArr_duration%f_AR_ntransits10.rds\", duration))"
   ]
  },
  {
   "cell_type": "code",
   "execution_count": null,
   "metadata": {
    "execution": {
     "iopub.execute_input": "2022-10-19T06:07:20.046322Z",
     "iopub.status.busy": "2022-10-19T06:07:20.044769Z",
     "iopub.status.idle": "2022-10-19T06:07:20.065186Z"
    }
   },
   "outputs": [],
   "source": [
    "# print(system(sprintf(\"mkdir fap_experiments/limitingDepths_duration%f_Gaussian_ntransits10\", duration), intern=TRUE))"
   ]
  },
  {
   "cell_type": "code",
   "execution_count": null,
   "metadata": {
    "execution": {
     "iopub.execute_input": "2022-10-19T06:07:29.240898Z",
     "iopub.status.busy": "2022-10-19T06:07:29.239441Z",
     "iopub.status.idle": "2022-10-19T06:07:29.258768Z"
    }
   },
   "outputs": [],
   "source": [
    "# print(system(sprintf(\"mv *.rds fap_experiments/limitingDepths_duration%f_Gaussian_ntransits10\", duration)))"
   ]
  },
  {
   "cell_type": "code",
   "execution_count": null,
   "metadata": {
    "execution": {
     "iopub.execute_input": "2022-10-19T06:07:35.864807Z",
     "iopub.status.busy": "2022-10-19T06:07:35.863181Z",
     "iopub.status.idle": "2022-10-19T06:07:35.886525Z"
    }
   },
   "outputs": [],
   "source": [
    "# zip(zipfile = sprintf('limitingDepths_duration%f_Gaussian_ntransits10.zip', duration), files = sprintf(\"fap_experiments/faps_duration%f_Gaussian_ntransits10\", duration))"
   ]
  },
  {
   "cell_type": "code",
   "execution_count": null,
   "metadata": {
    "execution": {
     "iopub.execute_input": "2022-10-19T06:07:40.088073Z",
     "iopub.status.busy": "2022-10-19T06:07:40.086569Z",
     "iopub.status.idle": "2022-10-19T06:07:40.104053Z"
    }
   },
   "outputs": [],
   "source": [
    "# print(length(list.files(sprintf(\"fap_experiments/limitingDepths_duration%f_Gaussian_ntransits10\", duration))))"
   ]
  },
  {
   "cell_type": "code",
   "execution_count": null,
   "metadata": {},
   "outputs": [],
   "source": []
  }
 ],
 "metadata": {
  "kernelspec": {
   "display_name": "Python 3 (ipykernel)",
   "language": "python",
   "name": "python3"
  },
  "language_info": {
   "codemirror_mode": {
    "name": "ipython",
    "version": 3
   },
   "file_extension": ".py",
   "mimetype": "text/x-python",
   "name": "python",
   "nbconvert_exporter": "python",
   "pygments_lexer": "ipython3",
   "version": "3.8.10"
  }
 },
 "nbformat": 4,
 "nbformat_minor": 4
}
